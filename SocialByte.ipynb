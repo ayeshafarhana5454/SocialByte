{
 "cells": [
  {
   "cell_type": "code",
   "execution_count": null,
   "id": "34cbd39d",
   "metadata": {},
   "outputs": [],
   "source": [
    "CREATE TABLE Student (\n",
    "    ID INT PRIMARY KEY NOT NULL,\n",
    "    Name VARCHAR(20) NOT NULL,\n",
    "    Age INT NOT NULL,\n",
    "    Address VARCHAR(25)\n",
    ");\n",
    "\n",
    "#Inserting 5 records into the Student table\n",
    "INSERT INTO Student (ID, Name, Age, Address)\n",
    "VALUES\n",
    "    (1, 'John Doe', 20, '123 Main St'),\n",
    "    (2, 'Jane Smith', 22, '456 Elm Ave'),\n",
    "    (3, 'Michael Johnson', 21, '789 Oak Rd'),\n",
    "    (4, 'Emily Brown', 19, '567 Pine Ln'),\n",
    "    (5, 'David Wilson', 23, '234 Maple Dr');"
   ]
  }
 ],
 "metadata": {
  "kernelspec": {
   "display_name": "Python 3 (ipykernel)",
   "language": "python",
   "name": "python3"
  },
  "language_info": {
   "codemirror_mode": {
    "name": "ipython",
    "version": 3
   },
   "file_extension": ".py",
   "mimetype": "text/x-python",
   "name": "python",
   "nbconvert_exporter": "python",
   "pygments_lexer": "ipython3",
   "version": "3.10.9"
  }
 },
 "nbformat": 4,
 "nbformat_minor": 5
}
